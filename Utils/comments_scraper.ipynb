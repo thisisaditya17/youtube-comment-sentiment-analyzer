{
 "cells": [
  {
   "cell_type": "code",
   "execution_count": 2,
   "id": "26b0fd5a",
   "metadata": {},
   "outputs": [],
   "source": [
    "from googleapiclient.discovery import build\n",
    "import re\n",
    "import os\n",
    "from dotenv import load_dotenv"
   ]
  },
  {
   "cell_type": "code",
   "execution_count": 3,
   "id": "8b27e6bf",
   "metadata": {},
   "outputs": [],
   "source": [
    "API_KEY = os.getenv('GOOGLE_API_KEY')"
   ]
  },
  {
   "cell_type": "code",
   "execution_count": 4,
   "id": "26f6699c",
   "metadata": {},
   "outputs": [],
   "source": [
    "VIDEO_URL = 'https://youtu.be/RSLnwpSfe-4?si=FESNRGXZdU52bUn8'"
   ]
  },
  {
   "cell_type": "code",
   "execution_count": null,
   "id": "7e7e08c0",
   "metadata": {},
   "outputs": [],
   "source": [
    "def extract_video_id(url):\n",
    "    pattern = r\"(?:v=|\\/)([0-9A-Za-z_-]{11}).*\"\n",
    "    match = re.search(pattern, url)\n",
    "    return match.group(1) if match else None"
   ]
  },
  {
   "cell_type": "code",
   "execution_count": 6,
   "id": "7ce71fc8",
   "metadata": {},
   "outputs": [],
   "source": [
    "video_id = extract_video_id(VIDEO_URL)\n",
    "if not video_id:\n",
    "    raise ValueError(\"Could not extract video ID from URL\")"
   ]
  },
  {
   "cell_type": "code",
   "execution_count": 7,
   "id": "e13a35f9",
   "metadata": {},
   "outputs": [],
   "source": [
    "youtube = build(\"youtube\", \"v3\", developerKey=API_KEY)"
   ]
  },
  {
   "cell_type": "code",
   "execution_count": null,
   "id": "f3a749f5",
   "metadata": {},
   "outputs": [],
   "source": [
    "def get_all_comments(video_id):\n",
    "    comments = []\n",
    "    request = youtube.commentThreads().list(\n",
    "        part=\"snippet,replies\",\n",
    "        videoId=video_id,\n",
    "        textFormat=\"plainText\",\n",
    "        maxResults=100  \n",
    "    )\n",
    "    while request:\n",
    "        response = request.execute()\n",
    "        for item in response.get(\"items\", []):\n",
    "            snippet = item[\"snippet\"][\"topLevelComment\"][\"snippet\"]\n",
    "            comments.append({\n",
    "                \"author\": snippet.get(\"authorDisplayName\"),\n",
    "                \"text\": snippet.get(\"textDisplay\"),\n",
    "                \"isReply\": False\n",
    "            })\n",
    "            \n",
    "            if \"replies\" in item:\n",
    "                for reply in item[\"replies\"][\"comments\"]:\n",
    "                    rs = reply[\"snippet\"]\n",
    "                    comments.append({\n",
    "                        \"author\": rs.get(\"authorDisplayName\"),\n",
    "                        \"text\": rs.get(\"textDisplay\"),\n",
    "                        \"isReply\": True\n",
    "                    })\n",
    "        request = youtube.commentThreads().list_next(request, response)\n",
    "    return comments\n"
   ]
  },
  {
   "cell_type": "code",
   "execution_count": 17,
   "id": "43c48691",
   "metadata": {},
   "outputs": [],
   "source": [
    "all_comments = get_all_comments(video_id)"
   ]
  },
  {
   "cell_type": "code",
   "execution_count": 18,
   "id": "206e05e0",
   "metadata": {},
   "outputs": [
    {
     "name": "stdout",
     "output_type": "stream",
     "text": [
      "Saved comments to youtube_comments.csv\n"
     ]
    }
   ],
   "source": [
    "import pandas as pd\n",
    "\n",
    "df = pd.DataFrame(all_comments)\n",
    "df.to_csv(\"youtube_comments.csv\", index=False)\n",
    "print(\"Saved comments to youtube_comments.csv\")\n"
   ]
  },
  {
   "cell_type": "code",
   "execution_count": 19,
   "id": "63f3ed90",
   "metadata": {},
   "outputs": [],
   "source": [
    "import joblib\n",
    "\n",
    "vectorizer = joblib.load('tfidf_vectorizer.joblib')"
   ]
  },
  {
   "cell_type": "code",
   "execution_count": 20,
   "id": "b8ec76d4",
   "metadata": {},
   "outputs": [],
   "source": [
    "import xgboost as xgb\n",
    "model = xgb.XGBClassifier()\n",
    "model.load_model('review_sentiment_model.json')\n",
    "\n",
    "\n",
    "\n",
    "\n"
   ]
  },
  {
   "cell_type": "code",
   "execution_count": 21,
   "id": "cbf45684",
   "metadata": {},
   "outputs": [],
   "source": [
    "import re\n",
    "\n",
    "def remove_html_tags(text):\n",
    "    clean_text = re.sub(r'<.*?>', '', text)\n",
    "    return clean_text\n",
    "\n",
    "def preprocess_text(doc):\n",
    "    tokens = [token.lemma_.lower() for token in doc if not token.is_stop and not token.is_punct and not token.is_space]\n",
    "    return ' '.join(tokens)\n",
    "\n"
   ]
  },
  {
   "cell_type": "code",
   "execution_count": 22,
   "id": "a986c8d5",
   "metadata": {},
   "outputs": [],
   "source": [
    "import spacy\n",
    "nlp = spacy.load(\"en_core_web_sm\")"
   ]
  },
  {
   "cell_type": "code",
   "execution_count": 23,
   "id": "a723d939",
   "metadata": {},
   "outputs": [],
   "source": [
    "\n",
    "df['cleaned_text'] = df['text'].apply(remove_html_tags) \n",
    "docs = list(nlp.pipe(df['cleaned_text']))\n",
    "df['processed_text'] = [preprocess_text(doc) for doc in docs]\n"
   ]
  },
  {
   "cell_type": "code",
   "execution_count": 24,
   "id": "d7ff1f3f",
   "metadata": {},
   "outputs": [],
   "source": [
    "\n",
    "youtube_features = vectorizer.transform(df['processed_text'])\n"
   ]
  },
  {
   "cell_type": "code",
   "execution_count": null,
   "id": "79ad7bba",
   "metadata": {},
   "outputs": [],
   "source": [
    "\n",
    "predictions = model.predict(youtube_features)\n",
    "probabilities = model.predict_proba(youtube_features)\n",
    "\n",
    "\n",
    "df['sentiment'] = predictions \n",
    "df['sentiment_label'] = df['sentiment'].map({0: 'negative', 1: 'positive'})\n",
    "df['confidence'] = probabilities.max(axis=1) \n"
   ]
  },
  {
   "cell_type": "code",
   "execution_count": null,
   "id": "88109a1c",
   "metadata": {},
   "outputs": [],
   "source": [
    "import matplotlib.pyplot as plt"
   ]
  },
  {
   "cell_type": "code",
   "execution_count": 32,
   "id": "a68d7ed2",
   "metadata": {},
   "outputs": [
    {
     "data": {
      "text/plain": [
       "Text(0.5, 1.0, 'Sentiment Distribution of YouTube Comments')"
      ]
     },
     "execution_count": 32,
     "metadata": {},
     "output_type": "execute_result"
    },
    {
     "data": {
      "image/png": "[encoded data removed]",
      "text/plain": [
       "<Figure size 640x480 with 1 Axes>"
      ]
     },
     "metadata": {},
     "output_type": "display_data"
    }
   ],
   "source": [
    "sentiment_counts = df['sentiment_label'].value_counts()\n",
    "\n",
    "plt.pie(sentiment_counts, labels=sentiment_counts.index, autopct='%1.1f%%', startangle=140)\n",
    "plt.title('Sentiment Distribution of YouTube Comments')\n"
   ]
  },
  {
   "cell_type": "code",
   "execution_count": 38,
   "id": "53ae0b3f",
   "metadata": {},
   "outputs": [
    {
     "name": "stdout",
     "output_type": "stream",
     "text": [
      "Sample Positive Comments:\n",
      "- I love Season 5 so much! It is probably my favorite season ❤ (Confidence: 0.90)\n",
      "- I love seeing them all together ❤ (Confidence: 0.83)\n",
      "- I LOVE this season. (Confidence: 0.83)\n",
      "- This truly was an amazing season. I mean all of them were, but this one just hit different. 💕 (Confidence: 0.82)\n",
      "- The best season because of Mondler ❤ Could they BE any cuter? ❤ (Confidence: 0.82)\n",
      "\n",
      "Sample Negative Comments:\n"
     ]
    }
   ],
   "source": [
    "\n",
    "positive_comments = df[\n",
    "    (df['sentiment_label'] == 'positive') & \n",
    "    (df['confidence'] > 0.8)\n",
    "].nlargest(5, 'confidence')\n",
    "\n",
    "negative_comments = df[\n",
    "    (df['sentiment_label'] == 'negative') & \n",
    "    (df['confidence'] > 0.8)\n",
    "].nlargest(5, 'confidence')\n",
    "\n",
    "print(\"Sample Positive Comments:\")\n",
    "for _, row in positive_comments.iterrows():\n",
    "    print(f\"- {row['text']} (Confidence: {row['confidence']:.2f})\")\n",
    "print(\"\\nSample Negative Comments:\")\n",
    "for _, row in negative_comments.iterrows():\n",
    "    print(f\"- {row['text']} (Confidence: {row['confidence']:.2f})\")"
   ]
  }
 ],
 "metadata": {
  "kernelspec": {
   "display_name": "nlp_course",
   "language": "python",
   "name": "python3"
  },
  "language_info": {
   "codemirror_mode": {
    "name": "ipython",
    "version": 3
   },
   "file_extension": ".py",
   "mimetype": "text/x-python",
   "name": "python",
   "nbconvert_exporter": "python",
   "pygments_lexer": "ipython3",
   "version": "3.12.11"
  }
 },
 "nbformat": 4,
 "nbformat_minor": 5
}
