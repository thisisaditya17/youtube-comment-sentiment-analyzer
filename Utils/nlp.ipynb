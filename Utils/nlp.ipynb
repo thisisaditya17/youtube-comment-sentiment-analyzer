{
 "cells": [
  {
   "cell_type": "code",
   "execution_count": 1,
   "id": "284cdb13",
   "metadata": {},
   "outputs": [],
   "source": [
    "import spacy"
   ]
  },
  {
   "cell_type": "code",
   "execution_count": 2,
   "id": "7cb61fbc",
   "metadata": {},
   "outputs": [],
   "source": [
    "nlp = spacy.load(\"en_core_web_sm\")"
   ]
  },
  {
   "cell_type": "code",
   "execution_count": 3,
   "id": "7a98aa8e",
   "metadata": {},
   "outputs": [],
   "source": [
    "doc = nlp(u\"A hero is a person or fictional character admired for extraordinary courage, great achievements, or noble qualities, often sacrificing for the well-being of others, or a main character in a story.\")"
   ]
  },
  {
   "cell_type": "code",
   "execution_count": 8,
   "id": "82368fa3",
   "metadata": {},
   "outputs": [
    {
     "name": "stdout",
     "output_type": "stream",
     "text": [
      "A 90 DET det\n",
      "hero 92 NOUN nsubj\n",
      "is 87 AUX ROOT\n",
      "a 90 DET det\n",
      "person 92 NOUN attr\n",
      "or 89 CCONJ cc\n",
      "fictional 84 ADJ amod\n",
      "character 92 NOUN conj\n",
      "admired 100 VERB acl\n",
      "for 85 ADP prep\n",
      "extraordinary 84 ADJ amod\n",
      "courage 92 NOUN pobj\n",
      ", 97 PUNCT punct\n",
      "great 84 ADJ amod\n",
      "achievements 92 NOUN conj\n",
      ", 97 PUNCT punct\n",
      "or 89 CCONJ cc\n",
      "noble 84 ADJ amod\n",
      "qualities 92 NOUN conj\n",
      ", 97 PUNCT punct\n",
      "often 86 ADV advmod\n",
      "sacrificing 100 VERB advcl\n",
      "for 85 ADP prep\n",
      "the 90 DET det\n",
      "well 86 ADV compound\n",
      "- 97 PUNCT punct\n",
      "being 92 NOUN pobj\n",
      "of 85 ADP prep\n",
      "others 92 NOUN pobj\n",
      ", 97 PUNCT punct\n",
      "or 89 CCONJ cc\n",
      "a 90 DET det\n",
      "main 84 ADJ amod\n",
      "character 92 NOUN conj\n",
      "in 85 ADP prep\n",
      "a 90 DET det\n",
      "story 92 NOUN pobj\n",
      ". 97 PUNCT punct\n"
     ]
    }
   ],
   "source": [
    "for token in doc:\n",
    "    print(token.text, token.pos, token.pos_, token.dep_)"
   ]
  },
  {
   "cell_type": "code",
   "execution_count": 11,
   "id": "0a69f6c2",
   "metadata": {},
   "outputs": [
    {
     "name": "stdout",
     "output_type": "stream",
     "text": [
      "['tok2vec', 'tagger', 'parser', 'attribute_ruler', 'lemmatizer', 'ner']\n"
     ]
    }
   ],
   "source": [
    "print(nlp.pipe_names)"
   ]
  },
  {
   "cell_type": "code",
   "execution_count": 12,
   "id": "4b89dddf",
   "metadata": {},
   "outputs": [],
   "source": [
    "doc2 = nlp(u\"A villain is a character who is an antagonist with evil intentions. \")"
   ]
  },
  {
   "cell_type": "code",
   "execution_count": 13,
   "id": "47e5a4e3",
   "metadata": {},
   "outputs": [
    {
     "name": "stdout",
     "output_type": "stream",
     "text": [
      "A 90 DET det\n",
      "villain 92 NOUN nsubj\n",
      "is 87 AUX ROOT\n",
      "a 90 DET det\n",
      "character 92 NOUN attr\n",
      "who 95 PRON nsubj\n",
      "is 87 AUX relcl\n",
      "an 90 DET det\n",
      "antagonist 92 NOUN attr\n",
      "with 85 ADP prep\n",
      "evil 84 ADJ amod\n",
      "intentions 92 NOUN pobj\n",
      ". 97 PUNCT punct\n"
     ]
    }
   ],
   "source": [
    "for token in doc2:\n",
    "    print(token.text, token.pos, token.pos_, token.dep_)"
   ]
  }
 ],
 "metadata": {
  "kernelspec": {
   "display_name": "nlp_course",
   "language": "python",
   "name": "python3"
  },
  "language_info": {
   "codemirror_mode": {
    "name": "ipython",
    "version": 3
   },
   "file_extension": ".py",
   "mimetype": "text/x-python",
   "name": "python",
   "nbconvert_exporter": "python",
   "pygments_lexer": "ipython3",
   "version": "3.12.11"
  }
 },
 "nbformat": 4,
 "nbformat_minor": 5
}
