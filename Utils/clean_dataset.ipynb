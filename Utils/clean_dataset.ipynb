{
 "cells": [
  {
   "cell_type": "code",
   "execution_count": 24,
   "id": "9668234f",
   "metadata": {},
   "outputs": [],
   "source": [
    "import pandas as pd\n",
    "import numpy as np\n",
    "import matplotlib.pyplot as plt\n",
    "import seaborn as sns\n",
    "import spacy "
   ]
  },
  {
   "cell_type": "code",
   "execution_count": 25,
   "id": "281a0943",
   "metadata": {},
   "outputs": [],
   "source": [
    "df = pd.read_csv('Dataset/IMDB Dataset.csv')"
   ]
  },
  {
   "cell_type": "code",
   "execution_count": 26,
   "id": "f8a6fb32",
   "metadata": {},
   "outputs": [
    {
     "name": "stdout",
     "output_type": "stream",
     "text": [
      "                                              review sentiment\n",
      "0  One of the other reviewers has mentioned that ...  positive\n",
      "1  A wonderful little production. <br /><br />The...  positive\n",
      "2  I thought this was a wonderful way to spend ti...  positive\n",
      "3  Basically there's a family where a little boy ...  negative\n",
      "4  Petter Mattei's \"Love in the Time of Money\" is...  positive\n"
     ]
    }
   ],
   "source": [
    "print(df.head())"
   ]
  },
  {
   "cell_type": "code",
   "execution_count": 27,
   "id": "8820bc38",
   "metadata": {},
   "outputs": [
    {
     "name": "stdout",
     "output_type": "stream",
     "text": [
      "Index(['review', 'sentiment'], dtype='object')\n",
      "Info about the dataset:\n",
      "<class 'pandas.core.frame.DataFrame'>\n",
      "RangeIndex: 50000 entries, 0 to 49999\n",
      "Data columns (total 2 columns):\n",
      " #   Column     Non-Null Count  Dtype \n",
      "---  ------     --------------  ----- \n",
      " 0   review     50000 non-null  object\n",
      " 1   sentiment  50000 non-null  object\n",
      "dtypes: object(2)\n",
      "memory usage: 781.4+ KB\n",
      "None\n",
      "Descriptive statistics:\n",
      "                                                   review sentiment\n",
      "count                                               50000     50000\n",
      "unique                                              49582         2\n",
      "top     Loved today's show!!! It was a variety and not...  positive\n",
      "freq                                                    5     25000\n",
      "Missing values in each column:\n",
      "review       0\n",
      "sentiment    0\n",
      "dtype: int64\n"
     ]
    }
   ],
   "source": [
    "print(df.columns)\n",
    "print(\"Info about the dataset:\")\n",
    "print(df.info())\n",
    "\n",
    "print(\"Descriptive statistics:\")\n",
    "print(df.describe())\n",
    "\n",
    "print(\"Missing values in each column:\")\n",
    "print(df.isnull().sum())"
   ]
  },
  {
   "cell_type": "code",
   "execution_count": 28,
   "id": "a07a3fce",
   "metadata": {},
   "outputs": [
    {
     "name": "stdout",
     "output_type": "stream",
     "text": [
      "sentiment\n",
      "positive    25000\n",
      "negative    25000\n",
      "Name: count, dtype: int64\n",
      "Sample positive review:\n",
      "One of the other reviewers has mentioned that after watching just 1 Oz episode you'll be hooked. They are right, as this is exactly what happened with me.<br /><br />The first thing that struck me about Oz was its brutality and unflinching scenes of violence, which set in right from the word GO. Trust me, this is not a show for the faint hearted or timid. This show pulls no punches with regards to drugs, sex or violence. Its is hardcore, in the classic use of the word.<br /><br />It is called OZ as that is the nickname given to the Oswald Maximum Security State Penitentary. It focuses mainly on Emerald City, an experimental section of the prison where all the cells have glass fronts and face inwards, so privacy is not high on the agenda. Em City is home to many..Aryans, Muslims, gangstas, Latinos, Christians, Italians, Irish and more....so scuffles, death stares, dodgy dealings and shady agreements are never far away.<br /><br />I would say the main appeal of the show is due to the fact that it goes where other shows wouldn't dare. Forget pretty pictures painted for mainstream audiences, forget charm, forget romance...OZ doesn't mess around. The first episode I ever saw struck me as so nasty it was surreal, I couldn't say I was ready for it, but as I watched more, I developed a taste for Oz, and got accustomed to the high levels of graphic violence. Not just violence, but injustice (crooked guards who'll be sold out for a nickel, inmates who'll kill on order and get away with it, well mannered, middle class inmates being turned into prison bitches due to their lack of street skills or prison experience) Watching Oz, you may become comfortable with what is uncomfortable viewing....thats if you can get in touch with your darker side.\n",
      "\n",
      "Sample negative review:\n",
      "Basically there's a family where a little boy (Jake) thinks there's a zombie in his closet & his parents are fighting all the time.<br /><br />This movie is slower than a soap opera... and suddenly, Jake decides to become Rambo and kill the zombie.<br /><br />OK, first of all when you're going to make a film you must Decide if its a thriller or a drama! As a drama the movie is watchable. Parents are divorcing & arguing like in real life. And then we have Jake with his closet which totally ruins all the film! I expected to see a BOOGEYMAN similar movie, and instead i watched a drama with some meaningless thriller spots.<br /><br />3 out of 10 just for the well playing parents & descent dialogs. As for the shots with Jake: just ignore them.\n",
      "Average review length: 1309.43102\n",
      "Shortest review length: 32\n",
      "Longest review length: 13704\n",
      "Review 0: One of the other reviewers has mentioned that after watching just 1 Oz episode you'll be hooked. They are right, as this is exactly what happened with me.<br /><br />The first thing that struck me abo ...\n",
      "Review 1: A wonderful little production. <br /><br />The filming technique is very unassuming- very old-time-BBC fashion and gives a comforting, and sometimes discomforting, sense of realism to the entire piece ...\n",
      "Review 2: I thought this was a wonderful way to spend time on a too hot summer weekend, sitting in the air conditioned theater and watching a light-hearted comedy. The plot is simplistic, but the dialogue is wi ...\n"
     ]
    }
   ],
   "source": [
    "print(df['sentiment'].value_counts())\n",
    "\n",
    "print(\"Sample positive review:\")\n",
    "print(df[df['sentiment'] == 'positive']['review'].iloc[0])\n",
    "print(\"\\nSample negative review:\")\n",
    "print(df[df['sentiment'] == 'negative']['review'].iloc[0])\n",
    "\n",
    "df['review_length'] = df['review'].str.len()\n",
    "print(\"Average review length:\", df['review_length'].mean())\n",
    "print(\"Shortest review length:\", df['review_length'].min())\n",
    "print(\"Longest review length:\", df['review_length'].max())\n",
    "\n",
    "# Check first few reviews for HTML or special patterns\n",
    "for i in range(3):\n",
    "    print(f\"Review {i}:\", df['review'].iloc[i][:200], \"...\")\n",
    "\n"
   ]
  },
  {
   "cell_type": "code",
   "execution_count": 29,
   "id": "04d8d2ce",
   "metadata": {},
   "outputs": [],
   "source": [
    "nlp = spacy.load('en_core_web_sm')"
   ]
  },
  {
   "cell_type": "code",
   "execution_count": 42,
   "id": "4b3f9281",
   "metadata": {},
   "outputs": [
    {
     "name": "stdout",
     "output_type": "stream",
     "text": [
      "Probably my all-time favorite movie, a story of selflessness, sacrifice and dedication to a noble cause, but it's not preachy or boring. It just never gets old, despite my having seen it some 15 or more times in the last 25 years. Paul Lukas' performance brings tears to my eyes, and Bette Davis, in one of her very few truly sympathetic roles, is a delight. The kids are, as grandma says, more like \"dressed-up midgets\" than children, but that only makes them more fun to watch. And the mother's slow awakening to what's happening in the world and under her own roof is believable and startling. If I had a dozen thumbs, they'd all be \"up\" for this movie.\n",
      "positive\n"
     ]
    }
   ],
   "source": [
    "df_cleaned = df.copy()\n",
    "i = 5\n",
    "print(df_cleaned['review'].iloc[i])\n",
    "print(df_cleaned['sentiment'].iloc[i])"
   ]
  },
  {
   "cell_type": "code",
   "execution_count": 43,
   "id": "b36ee6b7",
   "metadata": {},
   "outputs": [],
   "source": [
    "import re\n",
    "\n",
    "def remove_html_tags(text):\n",
    "    clean_text = re.sub(r'<.*?>', '', text)\n",
    "    return clean_text\n",
    "\n",
    "def preprocess_text(doc):\n",
    "    tokens = [token.lemma_.lower() for token in doc if not token.is_stop and not token.is_punct and not token.is_space]\n",
    "    return ' '.join(tokens)\n",
    "\n",
    "df_cleaned['review'] = df_cleaned['review'].apply(remove_html_tags)\n",
    "docs = list(nlp.pipe(df_cleaned['review']))\n",
    "df_cleaned['review'] = [preprocess_text(doc) for doc in docs]\n"
   ]
  },
  {
   "cell_type": "code",
   "execution_count": null,
   "id": "12b1b0e7",
   "metadata": {},
   "outputs": [
    {
     "name": "stdout",
     "output_type": "stream",
     "text": [
      "0        reviewer mention watch 1 oz episode hook right...\n",
      "1        wonderful little production filming technique ...\n",
      "2        think wonderful way spend time hot summer week...\n",
      "3        basically family little boy jake think zombie ...\n",
      "4        petter mattei love time money visually stunnin...\n",
      "                               ...                        \n",
      "49995    think movie right good job creative original e...\n",
      "49996    bad plot bad dialogue bad acting idiotic direc...\n",
      "49997    catholic teach parochial elementary school nun...\n",
      "49998    go disagree previous comment maltin second rat...\n",
      "49999    expect star trek movie high art fan expect mov...\n",
      "Name: review, Length: 50000, dtype: object\n"
     ]
    }
   ],
   "source": [
    "print(df_cleaned['review'])\n"
   ]
  },
  {
   "cell_type": "code",
   "execution_count": 45,
   "id": "14452517",
   "metadata": {},
   "outputs": [],
   "source": [
    "df_cleaned.to_csv('Dataset/IMDB_Dataset_Cleaned.csv', index=False)"
   ]
  },
  {
   "cell_type": "code",
   "execution_count": null,
   "id": "8933254d",
   "metadata": {},
   "outputs": [
    {
     "name": "stdout",
     "output_type": "stream",
     "text": [
      "                                              review sentiment  review_length\n",
      "0  One of the other reviewers has mentioned that ...  positive           1761\n",
      "1  A wonderful little production. <br /><br />The...  positive            998\n",
      "2  I thought this was a wonderful way to spend ti...  positive            926\n",
      "3  Basically there's a family where a little boy ...  negative            748\n",
      "4  Petter Mattei's \"Love in the Time of Money\" is...  positive           1317\n",
      "                                              review sentiment  review_length\n",
      "0  reviewer mention watch 1 oz episode hook right...  positive            935\n",
      "1  wonderful little production filming technique ...  positive            572\n",
      "2  think wonderful way spend time hot summer week...  positive            489\n",
      "3  basically family little boy jake think zombie ...  negative            379\n",
      "4  petter mattei love time money visually stunnin...  positive            768\n"
     ]
    }
   ],
   "source": [
    "print(df.head())\n",
    "\n",
    "print(df_cleaned.head())\n"
   ]
  }
 ],
 "metadata": {
  "kernelspec": {
   "display_name": "nlp_course",
   "language": "python",
   "name": "python3"
  },
  "language_info": {
   "codemirror_mode": {
    "name": "ipython",
    "version": 3
   },
   "file_extension": ".py",
   "mimetype": "text/x-python",
   "name": "python",
   "nbconvert_exporter": "python",
   "pygments_lexer": "ipython3",
   "version": "3.12.11"
  }
 },
 "nbformat": 4,
 "nbformat_minor": 5
}
